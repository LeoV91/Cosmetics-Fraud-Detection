{
 "cells": [
  {
   "cell_type": "code",
   "execution_count": 11,
   "metadata": {},
   "outputs": [
    {
     "name": "stdout",
     "output_type": "stream",
     "text": [
      "Files in the input directory:\n",
      "archive/luxury_cosmetics_fraud_analysis_2025.xlsx\n",
      "archive/luxury_cosmetics_fraud_analysis_2025.json\n",
      "archive/luxury_cosmetics_fraud_analysis_2025.csv\n"
     ]
    }
   ],
   "source": [
    "# Standard data science libraries\n",
    "import numpy as np \n",
    "import pandas as pd \n",
    "\n",
    "from sklearn.utils import resample\n",
    "from sklearn.model_selection import train_test_split\n",
    "from sklearn.preprocessing import StandardScaler\n",
    "from sklearn.compose import ColumnTransformer\n",
    "from sklearn.pipeline import Pipeline\n",
    "from sklearn.metrics import classification_report, accuracy_score\n",
    "\n",
    "from sklearn.linear_model import LogisticRegression\n",
    "from sklearn.tree import DecisionTreeClassifier\n",
    "from sklearn.ensemble import (\n",
    "    RandomForestClassifier, GradientBoostingClassifier, AdaBoostClassifier,\n",
    "    ExtraTreesClassifier, BaggingClassifier\n",
    ")\n",
    "from sklearn.neighbors import KNeighborsClassifier\n",
    "from sklearn.svm import SVC\n",
    "from xgboost import XGBClassifier\n",
    "from category_encoders import TargetEncoder\n",
    "\n",
    "# System and warnings management\n",
    "import os\n",
    "import warnings\n",
    "warnings.filterwarnings('ignore')\n",
    "\n",
    "# Display available files in the input directory\n",
    "print(\"Files in the input directory:\")\n",
    "for dirname, _, filenames in os.walk('archive/'):\n",
    "    for filename in filenames:\n",
    "        print(os.path.join(dirname, filename))\n"
   ]
  },
  {
   "cell_type": "code",
   "execution_count": 12,
   "metadata": {},
   "outputs": [],
   "source": [
    "# Load the dataset into a pandas DataFrame\n",
    "df = pd.read_csv('archive/luxury_cosmetics_fraud_analysis_2025.csv')"
   ]
  },
  {
   "cell_type": "markdown",
   "metadata": {},
   "source": [
    "## 2. Initial Data Exploration\n",
    "A crucial first step is to understand the structure and content of our dataset. This involves inspecting the first few rows, checking data types, and identifying any initial data quality issues. We also examine the distribution of key categorical features to inform subsequent feature engineering decisions."
   ]
  },
  {
   "cell_type": "code",
   "execution_count": 13,
   "metadata": {},
   "outputs": [
    {
     "data": {
      "text/html": [
       "<div>\n",
       "<style scoped>\n",
       "    .dataframe tbody tr th:only-of-type {\n",
       "        vertical-align: middle;\n",
       "    }\n",
       "\n",
       "    .dataframe tbody tr th {\n",
       "        vertical-align: top;\n",
       "    }\n",
       "\n",
       "    .dataframe thead th {\n",
       "        text-align: right;\n",
       "    }\n",
       "</style>\n",
       "<table border=\"1\" class=\"dataframe\">\n",
       "  <thead>\n",
       "    <tr style=\"text-align: right;\">\n",
       "      <th></th>\n",
       "      <th>Transaction_ID</th>\n",
       "      <th>Customer_ID</th>\n",
       "      <th>Transaction_Date</th>\n",
       "      <th>Transaction_Time</th>\n",
       "      <th>Customer_Age</th>\n",
       "      <th>Customer_Loyalty_Tier</th>\n",
       "      <th>Location</th>\n",
       "      <th>Store_ID</th>\n",
       "      <th>Product_SKU</th>\n",
       "      <th>Product_Category</th>\n",
       "      <th>Purchase_Amount</th>\n",
       "      <th>Payment_Method</th>\n",
       "      <th>Device_Type</th>\n",
       "      <th>IP_Address</th>\n",
       "      <th>Fraud_Flag</th>\n",
       "      <th>Footfall_Count</th>\n",
       "    </tr>\n",
       "  </thead>\n",
       "  <tbody>\n",
       "    <tr>\n",
       "      <th>0</th>\n",
       "      <td>702bdd9b-9c93-41e3-9dbb-a849b2422080</td>\n",
       "      <td>119dca0b-8554-4b2d-9bec-e964eaf6af97</td>\n",
       "      <td>2025-07-27</td>\n",
       "      <td>04:04:15</td>\n",
       "      <td>56.0</td>\n",
       "      <td>Silver</td>\n",
       "      <td>San Francisco</td>\n",
       "      <td>FLAGSHIP-LA</td>\n",
       "      <td>NEBULA-SERUM-07</td>\n",
       "      <td>Concealer</td>\n",
       "      <td>158.24</td>\n",
       "      <td>Mobile Payment</td>\n",
       "      <td>Desktop</td>\n",
       "      <td>239.249.58.237</td>\n",
       "      <td>0</td>\n",
       "      <td>333</td>\n",
       "    </tr>\n",
       "    <tr>\n",
       "      <th>1</th>\n",
       "      <td>2e64c346-36bc-4acf-bc2b-8b0fdf46abc5</td>\n",
       "      <td>299df086-26c4-4708-b6d7-fcaeceb14637</td>\n",
       "      <td>2025-03-14</td>\n",
       "      <td>20:23:23</td>\n",
       "      <td>46.0</td>\n",
       "      <td>Platinum</td>\n",
       "      <td>Zurich</td>\n",
       "      <td>BOUTIQUE-SHANGHAI</td>\n",
       "      <td>STELLAR-FOUND-03</td>\n",
       "      <td>Lipstick</td>\n",
       "      <td>86.03</td>\n",
       "      <td>Credit Card</td>\n",
       "      <td>Tablet</td>\n",
       "      <td>84.49.227.90</td>\n",
       "      <td>0</td>\n",
       "      <td>406</td>\n",
       "    </tr>\n",
       "    <tr>\n",
       "      <th>2</th>\n",
       "      <td>29ad1278-70ce-421f-8d81-23816b39f4ac</td>\n",
       "      <td>dfa3d24d-b935-49a5-aa1d-7d57a44d8773</td>\n",
       "      <td>2025-02-20</td>\n",
       "      <td>12:36:02</td>\n",
       "      <td>32.0</td>\n",
       "      <td>Silver</td>\n",
       "      <td>Milan</td>\n",
       "      <td>POPUP-TOKYO</td>\n",
       "      <td>SOLAR-BLUSH-04</td>\n",
       "      <td>Mascara</td>\n",
       "      <td>255.69</td>\n",
       "      <td>Gift Card</td>\n",
       "      <td>Desktop</td>\n",
       "      <td>79.207.35.55</td>\n",
       "      <td>0</td>\n",
       "      <td>96</td>\n",
       "    </tr>\n",
       "    <tr>\n",
       "      <th>3</th>\n",
       "      <td>07dc4894-e0eb-48f1-99a7-1942b1973d9b</td>\n",
       "      <td>7a67e184-9369-49ee-aeac-18f5b51b230f</td>\n",
       "      <td>2025-04-25</td>\n",
       "      <td>19:09:43</td>\n",
       "      <td>60.0</td>\n",
       "      <td>Bronze</td>\n",
       "      <td>London</td>\n",
       "      <td>BOUTIQUE-NYC</td>\n",
       "      <td>GALAXIA-SET-08</td>\n",
       "      <td>Serum</td>\n",
       "      <td>282.76</td>\n",
       "      <td>Gift Card</td>\n",
       "      <td>Mobile</td>\n",
       "      <td>176.194.167.253</td>\n",
       "      <td>0</td>\n",
       "      <td>186</td>\n",
       "    </tr>\n",
       "    <tr>\n",
       "      <th>4</th>\n",
       "      <td>ae407054-5543-429c-918a-cdcc42ea9782</td>\n",
       "      <td>cf14730a-8f5a-453d-b527-39a278852b27</td>\n",
       "      <td>2025-04-17</td>\n",
       "      <td>14:23:23</td>\n",
       "      <td>NaN</td>\n",
       "      <td>Platinum</td>\n",
       "      <td>Miami</td>\n",
       "      <td>BOUTIQUE-NYC</td>\n",
       "      <td>LUNAR-MASC-02</td>\n",
       "      <td>Serum</td>\n",
       "      <td>205.86</td>\n",
       "      <td>Gift Card</td>\n",
       "      <td>Mobile</td>\n",
       "      <td>166.31.46.111</td>\n",
       "      <td>0</td>\n",
       "      <td>179</td>\n",
       "    </tr>\n",
       "  </tbody>\n",
       "</table>\n",
       "</div>"
      ],
      "text/plain": [
       "                         Transaction_ID                           Customer_ID  \\\n",
       "0  702bdd9b-9c93-41e3-9dbb-a849b2422080  119dca0b-8554-4b2d-9bec-e964eaf6af97   \n",
       "1  2e64c346-36bc-4acf-bc2b-8b0fdf46abc5  299df086-26c4-4708-b6d7-fcaeceb14637   \n",
       "2  29ad1278-70ce-421f-8d81-23816b39f4ac  dfa3d24d-b935-49a5-aa1d-7d57a44d8773   \n",
       "3  07dc4894-e0eb-48f1-99a7-1942b1973d9b  7a67e184-9369-49ee-aeac-18f5b51b230f   \n",
       "4  ae407054-5543-429c-918a-cdcc42ea9782  cf14730a-8f5a-453d-b527-39a278852b27   \n",
       "\n",
       "  Transaction_Date Transaction_Time  Customer_Age Customer_Loyalty_Tier  \\\n",
       "0       2025-07-27         04:04:15          56.0                Silver   \n",
       "1       2025-03-14         20:23:23          46.0              Platinum   \n",
       "2       2025-02-20         12:36:02          32.0                Silver   \n",
       "3       2025-04-25         19:09:43          60.0                Bronze   \n",
       "4       2025-04-17         14:23:23           NaN              Platinum   \n",
       "\n",
       "        Location           Store_ID       Product_SKU Product_Category  \\\n",
       "0  San Francisco        FLAGSHIP-LA   NEBULA-SERUM-07        Concealer   \n",
       "1         Zurich  BOUTIQUE-SHANGHAI  STELLAR-FOUND-03         Lipstick   \n",
       "2          Milan        POPUP-TOKYO    SOLAR-BLUSH-04          Mascara   \n",
       "3         London       BOUTIQUE-NYC    GALAXIA-SET-08            Serum   \n",
       "4          Miami       BOUTIQUE-NYC     LUNAR-MASC-02            Serum   \n",
       "\n",
       "   Purchase_Amount  Payment_Method Device_Type       IP_Address  Fraud_Flag  \\\n",
       "0           158.24  Mobile Payment     Desktop   239.249.58.237           0   \n",
       "1            86.03     Credit Card      Tablet     84.49.227.90           0   \n",
       "2           255.69       Gift Card     Desktop     79.207.35.55           0   \n",
       "3           282.76       Gift Card      Mobile  176.194.167.253           0   \n",
       "4           205.86       Gift Card      Mobile    166.31.46.111           0   \n",
       "\n",
       "   Footfall_Count  \n",
       "0             333  \n",
       "1             406  \n",
       "2              96  \n",
       "3             186  \n",
       "4             179  "
      ]
     },
     "execution_count": 13,
     "metadata": {},
     "output_type": "execute_result"
    }
   ],
   "source": [
    "# Display the first 5 rows of the DataFrame to get an overview\n",
    "df.head()"
   ]
  },
  {
   "cell_type": "code",
   "execution_count": 14,
   "metadata": {},
   "outputs": [
    {
     "name": "stdout",
     "output_type": "stream",
     "text": [
      "<class 'pandas.core.frame.DataFrame'>\n",
      "RangeIndex: 2133 entries, 0 to 2132\n",
      "Data columns (total 16 columns):\n",
      " #   Column                 Non-Null Count  Dtype  \n",
      "---  ------                 --------------  -----  \n",
      " 0   Transaction_ID         2133 non-null   object \n",
      " 1   Customer_ID            2133 non-null   object \n",
      " 2   Transaction_Date       2133 non-null   object \n",
      " 3   Transaction_Time       2133 non-null   object \n",
      " 4   Customer_Age           2027 non-null   float64\n",
      " 5   Customer_Loyalty_Tier  2027 non-null   object \n",
      " 6   Location               2133 non-null   object \n",
      " 7   Store_ID               2133 non-null   object \n",
      " 8   Product_SKU            2133 non-null   object \n",
      " 9   Product_Category       2133 non-null   object \n",
      " 10  Purchase_Amount        2133 non-null   float64\n",
      " 11  Payment_Method         2027 non-null   object \n",
      " 12  Device_Type            2133 non-null   object \n",
      " 13  IP_Address             2133 non-null   object \n",
      " 14  Fraud_Flag             2133 non-null   int64  \n",
      " 15  Footfall_Count         2133 non-null   int64  \n",
      "dtypes: float64(2), int64(2), object(12)\n",
      "memory usage: 266.8+ KB\n"
     ]
    }
   ],
   "source": [
    "# Check data types and non-null values for each column\n",
    "df.info()"
   ]
  },
  {
   "cell_type": "markdown",
   "metadata": {},
   "source": [
    "Exploring the value counts for several categorical features provides insight into their distribution and potential for creating new, more informative features."
   ]
  },
  {
   "cell_type": "code",
   "execution_count": 15,
   "metadata": {},
   "outputs": [
    {
     "data": {
      "text/plain": [
       "Customer_Loyalty_Tier\n",
       "Bronze      808\n",
       "Silver      506\n",
       "Gold        423\n",
       "Platinum    179\n",
       "VIP         111\n",
       "Name: count, dtype: int64"
      ]
     },
     "execution_count": 15,
     "metadata": {},
     "output_type": "execute_result"
    }
   ],
   "source": [
    "# Examine the distribution of Customer Loyalty Tiers\n",
    "df['Customer_Loyalty_Tier'].value_counts()"
   ]
  },
  {
   "cell_type": "code",
   "execution_count": 16,
   "metadata": {},
   "outputs": [
    {
     "data": {
      "text/plain": [
       "Location\n",
       "Sydney           128\n",
       "Zurich           121\n",
       "Shanghai         117\n",
       "Cannes           114\n",
       "Hong Kong        114\n",
       "Monte Carlo      112\n",
       "Singapore        112\n",
       "San Francisco    109\n",
       "London           108\n",
       "Rome             107\n",
       "Los Angeles      105\n",
       "Miami            105\n",
       "Dubai            103\n",
       "Milan            103\n",
       "Las Vegas        102\n",
       "Geneva           100\n",
       "Paris             97\n",
       "Tokyo             95\n",
       "New York          93\n",
       "Monaco            88\n",
       "Name: count, dtype: int64"
      ]
     },
     "execution_count": 16,
     "metadata": {},
     "output_type": "execute_result"
    }
   ],
   "source": [
    "# Investigate the distribution of transaction locations\n",
    "df['Location'].value_counts()"
   ]
  },
  {
   "cell_type": "code",
   "execution_count": 17,
   "metadata": {},
   "outputs": [
    {
     "data": {
      "text/plain": [
       "Product_Category\n",
       "Serum                233\n",
       "Highlighter          228\n",
       "Blush                222\n",
       "Mascara              219\n",
       "Setting Spray        213\n",
       "Lipstick             209\n",
       "Eyeshadow Palette    209\n",
       "Eyeliner             207\n",
       "Concealer            199\n",
       "Foundation           194\n",
       "Name: count, dtype: int64"
      ]
     },
     "execution_count": 17,
     "metadata": {},
     "output_type": "execute_result"
    }
   ],
   "source": [
    "# Check the distribution of Product Categories\n",
    "df['Product_Category'].value_counts()"
   ]
  },
  {
   "cell_type": "code",
   "execution_count": 18,
   "metadata": {},
   "outputs": [
    {
     "data": {
      "text/plain": [
       "Payment_Method\n",
       "Debit Card        522\n",
       "Gift Card         514\n",
       "Mobile Payment    500\n",
       "Credit Card       491\n",
       "Name: count, dtype: int64"
      ]
     },
     "execution_count": 18,
     "metadata": {},
     "output_type": "execute_result"
    }
   ],
   "source": [
    "# Analyze the distribution of Payment Methods\n",
    "df['Payment_Method'].value_counts()"
   ]
  },
  {
   "cell_type": "markdown",
   "metadata": {},
   "source": [
    "## 3. Feature Engineering\n",
    "To enhance the predictive power of our models, we will create new features from existing ones and transform certain columns into a more suitable format. This stage involves:\n",
    "\n",
    "- Dropping Redundant Identifiers: Removing Transaction_ID and Customer_ID as they are unique identifiers with no predictive value.\n",
    "- Temporal Features: Extracting year, month, day, and hour from transaction timestamps.\n",
    "- Loyalty Tier Transformation: Creating a binary indicator for VIP customers.\n",
    "- Location Frequency: Identifying frequently occurring transaction locations.\n",
    "- Store and Product SKU Decomposition: Breaking down Store_ID and Product_SKU into more granular components.\n",
    "- Purchase Amount Binning: Flagging high-value purchases.\n",
    "- Payment Method Categorization: Identifying card-based payments.\n",
    "- IP Address Segmentation: Splitting IP addresses into their octets.\n",
    "\n",
    "After generating these new features, the original columns from which they were derived, if no longer needed, will be dropped."
   ]
  },
  {
   "cell_type": "code",
   "execution_count": 19,
   "metadata": {},
   "outputs": [],
   "source": [
    "# Drop unique identifier columns that are not useful for modeling\n",
    "df.drop(columns=['Transaction_ID', 'Customer_ID'], inplace=True)"
   ]
  },
  {
   "cell_type": "code",
   "execution_count": 20,
   "metadata": {},
   "outputs": [],
   "source": [
    "# Convert 'Transaction_Date' and 'Transaction_Time' to datetime objects\n",
    "df['Transaction_Date'] = pd.to_datetime(df['Transaction_Date'])\n",
    "df['Transaction_Time'] = pd.to_datetime(df['Transaction_Time'], format='%H:%M:%S')\n",
    "\n",
    "# Extract temporal features: Year, Month, Day, Hour\n",
    "df['Year'] = df['Transaction_Date'].dt.year\n",
    "df['Month'] = df['Transaction_Date'].dt.month\n",
    "df['Day'] = df['Transaction_Date'].dt.day\n",
    "df['Hour'] = df['Transaction_Time'].dt.hour\n",
    "\n",
    "# Drop the original date and time columns\n",
    "df.drop(columns=['Transaction_Date', 'Transaction_Time'], inplace=True)"
   ]
  },
  {
   "cell_type": "code",
   "execution_count": 21,
   "metadata": {},
   "outputs": [],
   "source": [
    "# Create a binary flag for VIP loyalty tier customers\n",
    "df['is_vip'] = df['Customer_Loyalty_Tier'].apply(lambda x: 'yes' if x=='VIP' else 'no')"
   ]
  },
  {
   "cell_type": "code",
   "execution_count": 22,
   "metadata": {},
   "outputs": [],
   "source": [
    "# Identify locations with more than 100 transactions as 'frequent'\n",
    "location_counts = df['Location'].value_counts()\n",
    "df['is_frequent_locality'] = df['Location'].apply(lambda x : 'yes' if location_counts[x]>100 else 'no')"
   ]
  },
  {
   "cell_type": "code",
   "execution_count": 23,
   "metadata": {},
   "outputs": [],
   "source": [
    "# Extract category and city information from 'Store_ID'\n",
    "df['category_store_id'] = df['Store_ID'].apply(lambda x: x.lower().split('-')[0])\n",
    "df['city_store_id'] = df['Store_ID'].apply(lambda x: x.lower().split('-')[1])"
   ]
  },
  {
   "cell_type": "code",
   "execution_count": 25,
   "metadata": {},
   "outputs": [],
   "source": [
    "# Split 'Product_SKU' into Brand, Category, and Variant components\n",
    "df[['Brand', 'Category', 'Variant']] = df['Product_SKU'].str.split('-', expand=True)"
   ]
  },
  {
   "cell_type": "code",
   "execution_count": 26,
   "metadata": {},
   "outputs": [],
   "source": [
    "# Drop original 'Store_ID' and 'Product_SKU' columns as their components have been extracted\n",
    "df.drop(columns=['Store_ID', 'Product_SKU'], inplace=True)"
   ]
  },
  {
   "cell_type": "code",
   "execution_count": 42,
   "metadata": {},
   "outputs": [
    {
     "data": {
      "image/png": "[encoded data removed]",
      "text/plain": [
       "<Figure size 640x480 with 1 Axes>"
      ]
     },
     "metadata": {},
     "output_type": "display_data"
    }
   ],
   "source": [
    "# Create a binary flag for purchases with an amount greater than 200\n",
    "import seaborn as sns\n",
    "\n",
    "import seaborn as sns\n",
    "import matplotlib.pyplot as plt\n",
    "\n",
    "# Histogramme en pourcentage\n",
    "sns.histplot(df['Purchase_Amount'], bins=30, stat=\"percent\", kde=False)\n",
    "\n",
    "plt.title(\"Distribution en pourcentage des montants\")\n",
    "plt.xlabel(\"Montant d'achat\")\n",
    "plt.ylabel(\"Pourcentage (%)\")\n",
    "plt.show()\n",
    "\n",
    "df['is_high_cost'] = df['Purchase_Amount'].apply(lambda x: x>200)"
   ]
  },
  {
   "cell_type": "code",
   "execution_count": null,
   "metadata": {},
   "outputs": [],
   "source": [
    "# Create a binary flag for payments made using a 'Card'\n",
    "df['is_card'] = df['Payment_Method'].apply(lambda x: str(x).strip().split(' ')[-1]=='Card')"
   ]
  },
  {
   "cell_type": "code",
   "execution_count": 43,
   "metadata": {},
   "outputs": [],
   "source": [
    "# Split 'IP_Address' into its four octets\n",
    "df[['IP1','IP2','IP3','IP4']] = df['IP_Address'].str.split('.', expand=True)\n",
    "\n",
    "# Ensure 'Footfall_Count' is of integer type\n",
    "df['Footfall_Count'] = df['Footfall_Count'].astype(int)"
   ]
  },
  {
   "cell_type": "code",
   "execution_count": 44,
   "metadata": {},
   "outputs": [],
   "source": [
    "# Drop the original 'IP_Address' column after extracting octets\n",
    "df.drop(columns='IP_Address', inplace=True)"
   ]
  },
  {
   "cell_type": "markdown",
   "metadata": {},
   "source": [
    "## 4. Data Cleaning and Preprocessing\n",
    "With new features created, we now focus on final data cleaning steps. This includes handling any remaining missing values, ensuring correct data types, and standardizing column names for ease of use."
   ]
  },
  {
   "cell_type": "code",
   "execution_count": 45,
   "metadata": {},
   "outputs": [
    {
     "data": {
      "text/html": [
       "<div>\n",
       "<style scoped>\n",
       "    .dataframe tbody tr th:only-of-type {\n",
       "        vertical-align: middle;\n",
       "    }\n",
       "\n",
       "    .dataframe tbody tr th {\n",
       "        vertical-align: top;\n",
       "    }\n",
       "\n",
       "    .dataframe thead th {\n",
       "        text-align: right;\n",
       "    }\n",
       "</style>\n",
       "<table border=\"1\" class=\"dataframe\">\n",
       "  <thead>\n",
       "    <tr style=\"text-align: right;\">\n",
       "      <th></th>\n",
       "      <th>Customer_Age</th>\n",
       "      <th>Customer_Loyalty_Tier</th>\n",
       "      <th>Location</th>\n",
       "      <th>Product_Category</th>\n",
       "      <th>Purchase_Amount</th>\n",
       "      <th>Payment_Method</th>\n",
       "      <th>Device_Type</th>\n",
       "      <th>Fraud_Flag</th>\n",
       "      <th>Footfall_Count</th>\n",
       "      <th>Year</th>\n",
       "      <th>...</th>\n",
       "      <th>category_store_id</th>\n",
       "      <th>city_store_id</th>\n",
       "      <th>Brand</th>\n",
       "      <th>Category</th>\n",
       "      <th>Variant</th>\n",
       "      <th>is_high_cost</th>\n",
       "      <th>IP1</th>\n",
       "      <th>IP2</th>\n",
       "      <th>IP3</th>\n",
       "      <th>IP4</th>\n",
       "    </tr>\n",
       "  </thead>\n",
       "  <tbody>\n",
       "    <tr>\n",
       "      <th>0</th>\n",
       "      <td>56.0</td>\n",
       "      <td>Silver</td>\n",
       "      <td>San Francisco</td>\n",
       "      <td>Concealer</td>\n",
       "      <td>158.24</td>\n",
       "      <td>Mobile Payment</td>\n",
       "      <td>Desktop</td>\n",
       "      <td>0</td>\n",
       "      <td>333</td>\n",
       "      <td>2025</td>\n",
       "      <td>...</td>\n",
       "      <td>flagship</td>\n",
       "      <td>la</td>\n",
       "      <td>NEBULA</td>\n",
       "      <td>SERUM</td>\n",
       "      <td>07</td>\n",
       "      <td>False</td>\n",
       "      <td>239</td>\n",
       "      <td>249</td>\n",
       "      <td>58</td>\n",
       "      <td>237</td>\n",
       "    </tr>\n",
       "    <tr>\n",
       "      <th>1</th>\n",
       "      <td>46.0</td>\n",
       "      <td>Platinum</td>\n",
       "      <td>Zurich</td>\n",
       "      <td>Lipstick</td>\n",
       "      <td>86.03</td>\n",
       "      <td>Credit Card</td>\n",
       "      <td>Tablet</td>\n",
       "      <td>0</td>\n",
       "      <td>406</td>\n",
       "      <td>2025</td>\n",
       "      <td>...</td>\n",
       "      <td>boutique</td>\n",
       "      <td>shanghai</td>\n",
       "      <td>STELLAR</td>\n",
       "      <td>FOUND</td>\n",
       "      <td>03</td>\n",
       "      <td>False</td>\n",
       "      <td>84</td>\n",
       "      <td>49</td>\n",
       "      <td>227</td>\n",
       "      <td>90</td>\n",
       "    </tr>\n",
       "    <tr>\n",
       "      <th>2</th>\n",
       "      <td>32.0</td>\n",
       "      <td>Silver</td>\n",
       "      <td>Milan</td>\n",
       "      <td>Mascara</td>\n",
       "      <td>255.69</td>\n",
       "      <td>Gift Card</td>\n",
       "      <td>Desktop</td>\n",
       "      <td>0</td>\n",
       "      <td>96</td>\n",
       "      <td>2025</td>\n",
       "      <td>...</td>\n",
       "      <td>popup</td>\n",
       "      <td>tokyo</td>\n",
       "      <td>SOLAR</td>\n",
       "      <td>BLUSH</td>\n",
       "      <td>04</td>\n",
       "      <td>True</td>\n",
       "      <td>79</td>\n",
       "      <td>207</td>\n",
       "      <td>35</td>\n",
       "      <td>55</td>\n",
       "    </tr>\n",
       "    <tr>\n",
       "      <th>3</th>\n",
       "      <td>60.0</td>\n",
       "      <td>Bronze</td>\n",
       "      <td>London</td>\n",
       "      <td>Serum</td>\n",
       "      <td>282.76</td>\n",
       "      <td>Gift Card</td>\n",
       "      <td>Mobile</td>\n",
       "      <td>0</td>\n",
       "      <td>186</td>\n",
       "      <td>2025</td>\n",
       "      <td>...</td>\n",
       "      <td>boutique</td>\n",
       "      <td>nyc</td>\n",
       "      <td>GALAXIA</td>\n",
       "      <td>SET</td>\n",
       "      <td>08</td>\n",
       "      <td>True</td>\n",
       "      <td>176</td>\n",
       "      <td>194</td>\n",
       "      <td>167</td>\n",
       "      <td>253</td>\n",
       "    </tr>\n",
       "    <tr>\n",
       "      <th>4</th>\n",
       "      <td>NaN</td>\n",
       "      <td>Platinum</td>\n",
       "      <td>Miami</td>\n",
       "      <td>Serum</td>\n",
       "      <td>205.86</td>\n",
       "      <td>Gift Card</td>\n",
       "      <td>Mobile</td>\n",
       "      <td>0</td>\n",
       "      <td>179</td>\n",
       "      <td>2025</td>\n",
       "      <td>...</td>\n",
       "      <td>boutique</td>\n",
       "      <td>nyc</td>\n",
       "      <td>LUNAR</td>\n",
       "      <td>MASC</td>\n",
       "      <td>02</td>\n",
       "      <td>True</td>\n",
       "      <td>166</td>\n",
       "      <td>31</td>\n",
       "      <td>46</td>\n",
       "      <td>111</td>\n",
       "    </tr>\n",
       "  </tbody>\n",
       "</table>\n",
       "<p>5 rows × 25 columns</p>\n",
       "</div>"
      ],
      "text/plain": [
       "   Customer_Age Customer_Loyalty_Tier       Location Product_Category  \\\n",
       "0          56.0                Silver  San Francisco        Concealer   \n",
       "1          46.0              Platinum         Zurich         Lipstick   \n",
       "2          32.0                Silver          Milan          Mascara   \n",
       "3          60.0                Bronze         London            Serum   \n",
       "4           NaN              Platinum          Miami            Serum   \n",
       "\n",
       "   Purchase_Amount  Payment_Method Device_Type  Fraud_Flag  Footfall_Count  \\\n",
       "0           158.24  Mobile Payment     Desktop           0             333   \n",
       "1            86.03     Credit Card      Tablet           0             406   \n",
       "2           255.69       Gift Card     Desktop           0              96   \n",
       "3           282.76       Gift Card      Mobile           0             186   \n",
       "4           205.86       Gift Card      Mobile           0             179   \n",
       "\n",
       "   Year  ...  category_store_id  city_store_id    Brand Category Variant  \\\n",
       "0  2025  ...           flagship             la   NEBULA    SERUM      07   \n",
       "1  2025  ...           boutique       shanghai  STELLAR    FOUND      03   \n",
       "2  2025  ...              popup          tokyo    SOLAR    BLUSH      04   \n",
       "3  2025  ...           boutique            nyc  GALAXIA      SET      08   \n",
       "4  2025  ...           boutique            nyc    LUNAR     MASC      02   \n",
       "\n",
       "  is_high_cost  IP1  IP2  IP3  IP4  \n",
       "0        False  239  249   58  237  \n",
       "1        False   84   49  227   90  \n",
       "2         True   79  207   35   55  \n",
       "3         True  176  194  167  253  \n",
       "4         True  166   31   46  111  \n",
       "\n",
       "[5 rows x 25 columns]"
      ]
     },
     "execution_count": 45,
     "metadata": {},
     "output_type": "execute_result"
    }
   ],
   "source": [
    "# Display the first few rows after feature engineering to verify changes\n",
    "df.head()"
   ]
  },
  {
   "cell_type": "code",
   "execution_count": 46,
   "metadata": {},
   "outputs": [],
   "source": [
    "# Drop any rows that still contain missing values\n",
    "df.dropna(inplace=True)"
   ]
  },
  {
   "cell_type": "code",
   "execution_count": 47,
   "metadata": {},
   "outputs": [],
   "source": [
    "# Convert 'Customer_Age' to integer type for consistency\n",
    "df['Customer_Age'] = df['Customer_Age'].astype(int)"
   ]
  },
  {
   "cell_type": "code",
   "execution_count": 48,
   "metadata": {},
   "outputs": [],
   "source": [
    "# Convert all column names to lowercase for easier access and consistency\n",
    "df.columns = df.columns.str.lower()"
   ]
  },
  {
   "cell_type": "code",
   "execution_count": 49,
   "metadata": {},
   "outputs": [
    {
     "name": "stdout",
     "output_type": "stream",
     "text": [
      "<class 'pandas.core.frame.DataFrame'>\n",
      "Index: 1830 entries, 0 to 2132\n",
      "Data columns (total 25 columns):\n",
      " #   Column                 Non-Null Count  Dtype  \n",
      "---  ------                 --------------  -----  \n",
      " 0   customer_age           1830 non-null   int64  \n",
      " 1   customer_loyalty_tier  1830 non-null   object \n",
      " 2   location               1830 non-null   object \n",
      " 3   product_category       1830 non-null   object \n",
      " 4   purchase_amount        1830 non-null   float64\n",
      " 5   payment_method         1830 non-null   object \n",
      " 6   device_type            1830 non-null   object \n",
      " 7   fraud_flag             1830 non-null   int64  \n",
      " 8   footfall_count         1830 non-null   int64  \n",
      " 9   year                   1830 non-null   int32  \n",
      " 10  month                  1830 non-null   int32  \n",
      " 11  day                    1830 non-null   int32  \n",
      " 12  hour                   1830 non-null   int32  \n",
      " 13  is_vip                 1830 non-null   object \n",
      " 14  is_frequent_locality   1830 non-null   object \n",
      " 15  category_store_id      1830 non-null   object \n",
      " 16  city_store_id          1830 non-null   object \n",
      " 17  brand                  1830 non-null   object \n",
      " 18  category               1830 non-null   object \n",
      " 19  variant                1830 non-null   object \n",
      " 20  is_high_cost           1830 non-null   bool   \n",
      " 21  ip1                    1830 non-null   object \n",
      " 22  ip2                    1830 non-null   object \n",
      " 23  ip3                    1830 non-null   object \n",
      " 24  ip4                    1830 non-null   object \n",
      "dtypes: bool(1), float64(1), int32(4), int64(3), object(16)\n",
      "memory usage: 330.6+ KB\n"
     ]
    }
   ],
   "source": [
    "# Final check of data types and non-null counts after cleaning and feature engineering\n",
    "df.info()"
   ]
  },
  {
   "cell_type": "markdown",
   "metadata": {},
   "source": [
    "## 5. Handling Imbalanced Data\n",
    "Fraud detection datasets are typically highly imbalanced, meaning the number of fraudulent transactions is significantly lower than legitimate ones. This imbalance can lead to models that perform poorly on the minority class (fraud). To address this, we will use oversampling to balance the fraud_flag distribution."
   ]
  },
  {
   "cell_type": "code",
   "execution_count": 50,
   "metadata": {},
   "outputs": [
    {
     "data": {
      "text/plain": [
       "fraud_flag\n",
       "0    1773\n",
       "1      57\n",
       "Name: count, dtype: int64"
      ]
     },
     "execution_count": 50,
     "metadata": {},
     "output_type": "execute_result"
    }
   ],
   "source": [
    "# Check the initial distribution of the 'fraud_flag' column\n",
    "df['fraud_flag'].value_counts()"
   ]
  },
  {
   "cell_type": "code",
   "execution_count": 52,
   "metadata": {},
   "outputs": [],
   "source": [
    "# Separate majority and minority classes based on 'fraud_flag'\n",
    "df_majority = df[df['fraud_flag'] == 0]\n",
    "df_minority = df[df['fraud_flag'] == 1]\n",
    "\n",
    "# Oversample the minority class to match the number of majority class samples\n",
    "df_minority_oversampled = resample(df_minority, \n",
    "                                   replace=True,      # Sample with replacement\n",
    "                                   n_samples=len(df_majority), # Match majority class size\n",
    "                                   random_state=0)   # For reproducibility\n",
    "\n",
    "# Combine the oversampled minority class with the original majority class\n",
    "df_balanced = pd.concat([df_majority, df_minority_oversampled])"
   ]
  },
  {
   "cell_type": "code",
   "execution_count": 54,
   "metadata": {},
   "outputs": [
    {
     "data": {
      "text/plain": [
       "fraud_flag\n",
       "0    1773\n",
       "1    1773\n",
       "Name: count, dtype: int64"
      ]
     },
     "execution_count": 54,
     "metadata": {},
     "output_type": "execute_result"
    }
   ],
   "source": [
    "# Check the initial distribution of the 'fraud_flag' column\n",
    "df_balanced.fraud_flag.value_counts()"
   ]
  },
  {
   "cell_type": "code",
   "execution_count": 55,
   "metadata": {},
   "outputs": [
    {
     "name": "stdout",
     "output_type": "stream",
     "text": [
      "<class 'pandas.core.frame.DataFrame'>\n",
      "Index: 3546 entries, 0 to 1429\n",
      "Data columns (total 25 columns):\n",
      " #   Column                 Non-Null Count  Dtype  \n",
      "---  ------                 --------------  -----  \n",
      " 0   customer_age           3546 non-null   int64  \n",
      " 1   customer_loyalty_tier  3546 non-null   object \n",
      " 2   location               3546 non-null   object \n",
      " 3   product_category       3546 non-null   object \n",
      " 4   purchase_amount        3546 non-null   float64\n",
      " 5   payment_method         3546 non-null   object \n",
      " 6   device_type            3546 non-null   object \n",
      " 7   fraud_flag             3546 non-null   int64  \n",
      " 8   footfall_count         3546 non-null   int64  \n",
      " 9   year                   3546 non-null   int32  \n",
      " 10  month                  3546 non-null   int32  \n",
      " 11  day                    3546 non-null   int32  \n",
      " 12  hour                   3546 non-null   int32  \n",
      " 13  is_vip                 3546 non-null   object \n",
      " 14  is_frequent_locality   3546 non-null   object \n",
      " 15  category_store_id      3546 non-null   object \n",
      " 16  city_store_id          3546 non-null   object \n",
      " 17  brand                  3546 non-null   object \n",
      " 18  category               3546 non-null   object \n",
      " 19  variant                3546 non-null   object \n",
      " 20  is_high_cost           3546 non-null   bool   \n",
      " 21  ip1                    3546 non-null   object \n",
      " 22  ip2                    3546 non-null   object \n",
      " 23  ip3                    3546 non-null   object \n",
      " 24  ip4                    3546 non-null   object \n",
      "dtypes: bool(1), float64(1), int32(4), int64(3), object(16)\n",
      "memory usage: 640.6+ KB\n"
     ]
    }
   ],
   "source": [
    "# Confirm the DataFrame structure after balancing\n",
    "df_balanced.info()"
   ]
  },
  {
   "cell_type": "markdown",
   "metadata": {},
   "source": [
    "## 6. Model Training and Evaluation\n",
    "In this section, we prepare the data for machine learning and train a variety of classification models. The approach involves:\n",
    "\n",
    "Feature and Target Separation: Splitting the dataset into features (X) and the target variable (y).\n",
    "Preprocessing Pipeline: Applying StandardScaler to numerical features and TargetEncoder to categorical features. Target Encoding is particularly useful for high-cardinality categorical variables.\n",
    "Model Selection: Training a diverse set of classifiers, including traditional models and ensemble methods.\n",
    "Evaluation: Assessing each model's performance using accuracy and a detailed classification report (precision, recall, F1-score)."
   ]
  },
  {
   "cell_type": "code",
   "execution_count": 58,
   "metadata": {},
   "outputs": [
    {
     "name": "stdout",
     "output_type": "stream",
     "text": [
      "Training and evaluating models...\n",
      "\n",
      "--- Logistic Regression ---\n",
      "Accuracy: 0.9845\n",
      "              precision    recall  f1-score   support\n",
      "\n",
      "           0       1.00      0.97      0.98       355\n",
      "           1       0.97      1.00      0.98       355\n",
      "\n",
      "    accuracy                           0.98       710\n",
      "   macro avg       0.98      0.98      0.98       710\n",
      "weighted avg       0.98      0.98      0.98       710\n",
      "\n",
      "\n",
      "--- Decision Tree ---\n",
      "Accuracy: 0.9986\n",
      "              precision    recall  f1-score   support\n",
      "\n",
      "           0       1.00      1.00      1.00       355\n",
      "           1       1.00      1.00      1.00       355\n",
      "\n",
      "    accuracy                           1.00       710\n",
      "   macro avg       1.00      1.00      1.00       710\n",
      "weighted avg       1.00      1.00      1.00       710\n",
      "\n",
      "\n",
      "--- Random Forest ---\n",
      "Accuracy: 0.9986\n",
      "              precision    recall  f1-score   support\n",
      "\n",
      "           0       1.00      1.00      1.00       355\n",
      "           1       1.00      1.00      1.00       355\n",
      "\n",
      "    accuracy                           1.00       710\n",
      "   macro avg       1.00      1.00      1.00       710\n",
      "weighted avg       1.00      1.00      1.00       710\n",
      "\n",
      "\n",
      "--- Gradient Boosting ---\n",
      "Accuracy: 0.9986\n",
      "              precision    recall  f1-score   support\n",
      "\n",
      "           0       1.00      1.00      1.00       355\n",
      "           1       1.00      1.00      1.00       355\n",
      "\n",
      "    accuracy                           1.00       710\n",
      "   macro avg       1.00      1.00      1.00       710\n",
      "weighted avg       1.00      1.00      1.00       710\n",
      "\n",
      "\n",
      "--- AdaBoost ---\n",
      "Accuracy: 0.9986\n",
      "              precision    recall  f1-score   support\n",
      "\n",
      "           0       1.00      1.00      1.00       355\n",
      "           1       1.00      1.00      1.00       355\n",
      "\n",
      "    accuracy                           1.00       710\n",
      "   macro avg       1.00      1.00      1.00       710\n",
      "weighted avg       1.00      1.00      1.00       710\n",
      "\n",
      "\n",
      "--- Extra Trees ---\n",
      "Accuracy: 1.0000\n",
      "              precision    recall  f1-score   support\n",
      "\n",
      "           0       1.00      1.00      1.00       355\n",
      "           1       1.00      1.00      1.00       355\n",
      "\n",
      "    accuracy                           1.00       710\n",
      "   macro avg       1.00      1.00      1.00       710\n",
      "weighted avg       1.00      1.00      1.00       710\n",
      "\n",
      "\n",
      "--- Bagging ---\n",
      "Accuracy: 0.9986\n",
      "              precision    recall  f1-score   support\n",
      "\n",
      "           0       1.00      1.00      1.00       355\n",
      "           1       1.00      1.00      1.00       355\n",
      "\n",
      "    accuracy                           1.00       710\n",
      "   macro avg       1.00      1.00      1.00       710\n",
      "weighted avg       1.00      1.00      1.00       710\n",
      "\n",
      "\n",
      "--- KNN ---\n",
      "Accuracy: 0.9634\n",
      "              precision    recall  f1-score   support\n",
      "\n",
      "           0       1.00      0.93      0.96       355\n",
      "           1       0.93      1.00      0.96       355\n",
      "\n",
      "    accuracy                           0.96       710\n",
      "   macro avg       0.97      0.96      0.96       710\n",
      "weighted avg       0.97      0.96      0.96       710\n",
      "\n",
      "\n",
      "--- SVM ---\n",
      "Accuracy: 0.9930\n",
      "              precision    recall  f1-score   support\n",
      "\n",
      "           0       1.00      0.99      0.99       355\n",
      "           1       0.99      1.00      0.99       355\n",
      "\n",
      "    accuracy                           0.99       710\n",
      "   macro avg       0.99      0.99      0.99       710\n",
      "weighted avg       0.99      0.99      0.99       710\n",
      "\n",
      "\n",
      "--- XGBoost ---\n",
      "Accuracy: 0.9986\n",
      "              precision    recall  f1-score   support\n",
      "\n",
      "           0       1.00      1.00      1.00       355\n",
      "           1       1.00      1.00      1.00       355\n",
      "\n",
      "    accuracy                           1.00       710\n",
      "   macro avg       1.00      1.00      1.00       710\n",
      "weighted avg       1.00      1.00      1.00       710\n",
      "\n"
     ]
    }
   ],
   "source": [
    "# Separate features (X) and target (y)\n",
    "X = df_balanced.drop('fraud_flag', axis=1)\n",
    "y = df_balanced['fraud_flag']\n",
    "\n",
    "# Identify categorical and numerical columns for preprocessing\n",
    "cat_cols = X.select_dtypes(include=['object', 'bool']).columns # Include boolean for potential target encoding\n",
    "num_cols = X.select_dtypes(exclude=['object', 'bool']).columns\n",
    "\n",
    "# Define preprocessing steps: StandardScaler for numerical, TargetEncoder for categorical\n",
    "preprocessor = ColumnTransformer(\n",
    "    transformers=[\n",
    "        ('num', StandardScaler(), num_cols),\n",
    "        ('cat', TargetEncoder(), cat_cols)\n",
    "    ]\n",
    ")\n",
    "\n",
    "# Initialize a dictionary of classification models\n",
    "models = {\n",
    "    \"Logistic Regression\": LogisticRegression(max_iter=1000, random_state=42),\n",
    "    \"Decision Tree\": DecisionTreeClassifier(random_state=42),\n",
    "    \"Random Forest\": RandomForestClassifier(random_state=42),\n",
    "    \"Gradient Boosting\": GradientBoostingClassifier(random_state=42),\n",
    "    \"AdaBoost\": AdaBoostClassifier(random_state=42),\n",
    "    \"Extra Trees\": ExtraTreesClassifier(random_state=42),\n",
    "    \"Bagging\": BaggingClassifier(random_state=42),\n",
    "    \"KNN\": KNeighborsClassifier(),\n",
    "    \"SVM\": SVC(probability=True, random_state=42),\n",
    "    \"XGBoost\": XGBClassifier(use_label_encoder=False, eval_metric='logloss', random_state=42)\n",
    "}\n",
    "\n",
    "results = {}\n",
    "\n",
    "# Split the data into training and testing sets\n",
    "X_train, X_test, y_train, y_test = train_test_split(\n",
    "    X, y, test_size=0.2, stratify=y, random_state=42\n",
    ")\n",
    "\n",
    "print(\"Training and evaluating models...\")\n",
    "for name, model in models.items():\n",
    "    # Create a pipeline combining preprocessing and the model\n",
    "    clf = Pipeline(steps=[('preprocessor', preprocessor),\n",
    "                         ('model', model)])\n",
    "    \n",
    "    # Train the model\n",
    "    clf.fit(X_train, y_train)\n",
    "    \n",
    "    # Make predictions on the test set\n",
    "    y_pred = clf.predict(X_test)\n",
    "    \n",
    "    # Evaluate and store results\n",
    "    acc = accuracy_score(y_test, y_pred)\n",
    "    results[name] = acc\n",
    "    \n",
    "    print(f\"\\n--- {name} ---\")\n",
    "    print(f\"Accuracy: {acc:.4f}\")\n",
    "    print(classification_report(y_test, y_pred))"
   ]
  },
  {
   "cell_type": "markdown",
   "metadata": {},
   "source": [
    "## 7. Conclusion  \n",
    "\n",
    "This study investigated a range of machine learning techniques for identifying fraudulent transactions within the luxury cosmetics sector. By carefully preparing the data—through extensive feature engineering and managing class imbalance with oversampling—we established a solid foundation for fraud detection.  \n",
    "\n",
    "### Key Findings  \n",
    "\n",
    "- **Ensemble Tree-Based Models**  \n",
    "  - XGBoost, Random Forest, Gradient Boosting, and Extra Trees consistently delivered strong results.  \n",
    "  - Achieved high accuracy, precision, and recall.  \n",
    "  - Particularly effective due to their ability to capture complex, non-linear relationships.  \n",
    "\n",
    "- **Logistic Regression**  \n",
    "  - Served as a reliable baseline.  \n",
    "  - Showed that linear models can capture meaningful patterns.  \n",
    "  - Generally outperformed by more advanced algorithms.  \n",
    "\n",
    "- **K-Nearest Neighbors (KNN) & Support Vector Machines (SVM)**  \n",
    "  - Delivered competitive results.  \n",
    "  - Effective when features were properly scaled and encoded.  \n",
    "\n",
    "- **Categorical Encoding**  \n",
    "  - TargetEncoder proved especially effective for high-cardinality features (e.g., product SKUs, store IDs, IP addresses).  \n",
    "  - Enabled models to better leverage predictive signals in categorical data.  \n",
    "\n",
    "---\n",
    "\n",
    "### Future Directions  \n",
    "\n",
    "To further strengthen this fraud detection framework, the following enhancements are recommended:  \n",
    "\n",
    "- **Hyperparameter Optimization**  \n",
    "  - Systematically fine-tune parameters of the best-performing models.  \n",
    "\n",
    "- **Advanced Feature Engineering**  \n",
    "  - Explore complex feature interactions.  \n",
    "  - Incorporate external data sources (e.g., historical transaction behavior by customer/location).  \n",
    "\n",
    "- **Anomaly Detection Approaches**  \n",
    "  - Experiment with unsupervised or semi-supervised methods.  \n",
    "  - May be more robust to evolving fraud patterns not present in training data.  \n",
    "\n",
    "- **Cost-Sensitive Modeling**  \n",
    "  - Account for financial impact of false positives vs. false negatives.  \n",
    "  - Important as misclassifications have significant business implications.  \n",
    "\n",
    "- **Time-Series Modeling**  \n",
    "  - Leverage temporal transaction data.  \n",
    "  - Incorporate time-based features or apply time-series specific models.  "
   ]
  }
 ],
 "metadata": {
  "kernelspec": {
   "display_name": "venv",
   "language": "python",
   "name": "python3"
  },
  "language_info": {
   "codemirror_mode": {
    "name": "ipython",
    "version": 3
   },
   "file_extension": ".py",
   "mimetype": "text/x-python",
   "name": "python",
   "nbconvert_exporter": "python",
   "pygments_lexer": "ipython3",
   "version": "3.10.12"
  }
 },
 "nbformat": 4,
 "nbformat_minor": 2
}
